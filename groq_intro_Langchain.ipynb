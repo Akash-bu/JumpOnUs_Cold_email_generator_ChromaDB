{
 "cells": [
  {
   "cell_type": "code",
   "execution_count": 10,
   "id": "8298330e-95b7-4579-a9f8-f569f05890dc",
   "metadata": {},
   "outputs": [],
   "source": [
    "import getpass\n",
    "import os"
   ]
  },
  {
   "cell_type": "code",
   "execution_count": 11,
   "id": "e6cf236f-3b12-4ed2-bea6-06610cdc3c92",
   "metadata": {},
   "outputs": [
    {
     "name": "stdin",
     "output_type": "stream",
     "text": [
      "Enter API KEY ········\n"
     ]
    }
   ],
   "source": [
    "if 'GROQ_API_KEY' not in os.environ:\n",
    "    os.environ['GROQ_API_KEY'] = getpass.getpass(\"Enter API KEY\")"
   ]
  },
  {
   "cell_type": "code",
   "execution_count": 3,
   "id": "76c3c8d9-2206-47e3-a0d7-254f55caef74",
   "metadata": {},
   "outputs": [
    {
     "name": "stdout",
     "output_type": "stream",
     "text": [
      "Note: you may need to restart the kernel to use updated packages.\n"
     ]
    },
    {
     "name": "stderr",
     "output_type": "stream",
     "text": [
      "WARNING: Ignoring invalid distribution ~ (C:\\Users\\akash\\AppData\\Local\\Programs\\Python\\Python311\\Lib\\site-packages)\n",
      "WARNING: Ignoring invalid distribution ~otebook (C:\\Users\\akash\\AppData\\Local\\Programs\\Python\\Python311\\Lib\\site-packages)\n",
      "WARNING: Ignoring invalid distribution ~ (C:\\Users\\akash\\AppData\\Local\\Programs\\Python\\Python311\\Lib\\site-packages)\n",
      "WARNING: Ignoring invalid distribution ~otebook (C:\\Users\\akash\\AppData\\Local\\Programs\\Python\\Python311\\Lib\\site-packages)\n",
      "WARNING: Ignoring invalid distribution ~ (C:\\Users\\akash\\AppData\\Local\\Programs\\Python\\Python311\\Lib\\site-packages)\n",
      "WARNING: Ignoring invalid distribution ~otebook (C:\\Users\\akash\\AppData\\Local\\Programs\\Python\\Python311\\Lib\\site-packages)\n"
     ]
    }
   ],
   "source": [
    "%pip install -qU langchain-groq"
   ]
  },
  {
   "cell_type": "code",
   "execution_count": 12,
   "id": "81036d9c-7699-4c03-99bf-96a486167d0d",
   "metadata": {},
   "outputs": [],
   "source": [
    "from langchain_groq import ChatGroq"
   ]
  },
  {
   "cell_type": "code",
   "execution_count": 13,
   "id": "27a19edf-179a-453f-9b0f-5504983fd116",
   "metadata": {},
   "outputs": [],
   "source": [
    "llm = ChatGroq(model = 'mixtral-8x7b-32768',\n",
    "              temperature = 0,\n",
    "              max_tokens = 500,\n",
    "              timeout = None,\n",
    "              max_retries = 2\n",
    "              )"
   ]
  },
  {
   "cell_type": "code",
   "execution_count": 14,
   "id": "6bbeffd2-bd46-477d-817c-aba0e2bcc3b5",
   "metadata": {},
   "outputs": [],
   "source": [
    "messages = [\n",
    "    ('system', 'You are a knowledgable assistant specialized in astrology'),\n",
    "    ('human', 'What is a meteor?')\n",
    "]"
   ]
  },
  {
   "cell_type": "code",
   "execution_count": 15,
   "id": "65ef5359-7915-4745-9b60-976db95b3a5f",
   "metadata": {},
   "outputs": [
    {
     "data": {
      "text/plain": [
       "AIMessage(content='I\\'m here to help! While I\\'m an assistant with a broad range of knowledge, I should clarify that I don\\'t specialize in astrology. Astrology is the study of the positions and movements of celestial bodies and their supposed influence on human affairs and natural events. However, I can certainly provide information about meteors!\\n\\nA meteor, often referred to as a \"shooting star,\" is a small piece of interplanetary matter that burns up upon entering the Earth\\'s atmosphere. The friction caused by the meteor\\'s high speed and the atmospheric gases produces a streak of light in the sky, which we see from the ground. Most meteors are small, about the size of a grain of sand, and they disintegrate completely before reaching the Earth\\'s surface. Larger meteors that survive their passage through the atmosphere and reach the ground are called meteorites.', additional_kwargs={}, response_metadata={'token_usage': {'completion_tokens': 205, 'prompt_tokens': 28, 'total_tokens': 233, 'completion_time': 0.335340365, 'prompt_time': 0.007147957, 'queue_time': 0.007108723000000001, 'total_time': 0.342488322}, 'model_name': 'mixtral-8x7b-32768', 'system_fingerprint': 'fp_c5f20b5bb1', 'finish_reason': 'stop', 'logprobs': None}, id='run-4db55122-e46d-42ea-a375-ccce57339549-0', usage_metadata={'input_tokens': 28, 'output_tokens': 205, 'total_tokens': 233})"
      ]
     },
     "execution_count": 15,
     "metadata": {},
     "output_type": "execute_result"
    }
   ],
   "source": [
    "ai = llm.invoke(messages)\n",
    "ai"
   ]
  },
  {
   "cell_type": "code",
   "execution_count": 16,
   "id": "9ad8b215-70ab-4553-8911-70ca99431945",
   "metadata": {},
   "outputs": [
    {
     "data": {
      "text/plain": [
       "'I\\'m here to help! While I\\'m an assistant with a broad range of knowledge, I should clarify that I don\\'t specialize in astrology. Astrology is the study of the positions and movements of celestial bodies and their supposed influence on human affairs and natural events. However, I can certainly provide information about meteors!\\n\\nA meteor, often referred to as a \"shooting star,\" is a small piece of interplanetary matter that burns up upon entering the Earth\\'s atmosphere. The friction caused by the meteor\\'s high speed and the atmospheric gases produces a streak of light in the sky, which we see from the ground. Most meteors are small, about the size of a grain of sand, and they disintegrate completely before reaching the Earth\\'s surface. Larger meteors that survive their passage through the atmosphere and reach the ground are called meteorites.'"
      ]
     },
     "execution_count": 16,
     "metadata": {},
     "output_type": "execute_result"
    }
   ],
   "source": [
    "ai.content"
   ]
  },
  {
   "cell_type": "code",
   "execution_count": 17,
   "id": "faa1b30f-38b8-45b3-ad44-70774b0ee6a4",
   "metadata": {},
   "outputs": [],
   "source": [
    "from langchain_core.prompts import ChatPromptTemplate\n",
    "\n",
    "prompt = ChatPromptTemplate.from_messages(\n",
    "    [\n",
    "     (\n",
    "         \"system\", 'You are a knowledgable assistant specialized in {specialization}'\n",
    "     ) ,\n",
    "        (\"human\", \"{input}\"),\n",
    "    ]\n",
    ")\n",
    "\n",
    "chain = prompt | llm\n",
    "\n",
    "answer = chain.invoke({\n",
    "    \"specialization\": \"Chemistry\",\n",
    "    \"input\": \"What is a molecule?\",\n",
    "})"
   ]
  },
  {
   "cell_type": "code",
   "execution_count": 18,
   "id": "17dd8a65-b58f-429a-ab6a-26bd47b7c9ad",
   "metadata": {},
   "outputs": [
    {
     "data": {
      "text/plain": [
       "\"A molecule is the fundamental unit of a chemical compound. It is composed of two or more atoms that have chemically bonded together. The atoms can be the same (such as in O₂, a molecule of oxygen) or different (such as H₂O, a molecule of water, which consists of two hydrogen atoms and one oxygen atom).\\n\\nThe atoms in a molecule are held together by attractive forces called chemical bonds, which result from the sharing or transfer of electrons between the atoms. The arrangement of atoms in a molecule determines its chemical properties and structure.\\n\\nMolecules can range in size from very small, such as diatomic molecules like O₂ and H₂, to very large, such as proteins and DNA, which can consist of thousands or even millions of atoms.\\n\\nIn chemistry, the molecule is a basic unit of measurement, and the mole is a unit of amount of substance that contains exactly 6.022 x 10²³ molecules of a substance. This number is known as Avogadro's number.\""
      ]
     },
     "execution_count": 18,
     "metadata": {},
     "output_type": "execute_result"
    }
   ],
   "source": [
    "answer.content"
   ]
  },
  {
   "cell_type": "code",
   "execution_count": 19,
   "id": "891e48cd-c1c4-4fb2-973d-ffecbb676f31",
   "metadata": {},
   "outputs": [
    {
     "name": "stderr",
     "output_type": "stream",
     "text": [
      "USER_AGENT environment variable not set, consider setting it to identify your requests.\n"
     ]
    },
    {
     "data": {
      "text/plain": [
       "\"Bewirb dich für Software Engineer II\\n\\nJobsucheNavigation überspringenJobsucheNIKE, INC. JOBSBefristete JobsJoin The Talent CommunityUnser Leben bei NikeÜbersichtLeistungenMarkenÜbersichtJordanConverseTeamsÜbersichtAdministrative SupportAdvanced InnovationAir Manufacturing InnovationAviationCommunicationsCustomer ServiceDesignDigitalFacilitiesFinance & AccountingGovernment & Public Affairs\\r\\nHuman ResourcesData & AnalyticsLegalManufacturing & EngineeringMarketingMerchandisingPlanningPrivacyProcurementProduct Creation, Development & ManagementRetail CorporateRetail StoresSalesSocial & Community ImpactSports MarketingStrategic PlanningSupply Chain, Distribution & LogisticsSustainabilityTechnologyStandorteÜbersichtNike WHQNike New York HQEHQ: Hilversum, NiederlandeELC: Laakdal, BelgiumGreater China HQDiversität, Gleichstellung und InklusionÜbersichtMilitärBehinderung und InklusionInklusion der indigenen BevölkerungPraktikaTechnologySoftware Engineer IISalem, OregonWerde Teil des Teams von NIKE, Inc.  NIKE, Inc. stattet nicht nur die besten Athleten der Welt aus. Wir erkunden neue Möglichkeiten, finden Wege und überwinden die Grenzen des Machbaren. Unser Unternehmen sucht nach Menschen, die wachsen, denken, träumen und gestalten möchten. Unsere Unternehmenskultur schätzt Vielfalt und belohnt Einfallsreichtum. Unsere Marke sucht Menschen, die ihre Ziele erreichen, Führungsfähigkeiten haben und den Blick in die Zukunft richten. Bei NIKE, Inc. bringen alle Mitarbeiterinnen und Mitarbeiter ihre Fähigkeiten ein und nehmen immer neue Herausforderungen mit Leidenschaft an.NIKE ist ein Technologieunternehmen. Unsere Teams bei NIKE Global Technology revolutionieren die Zukunft in der Synergie von Technik und Sport – von unserer state-of-the-art Website und unseren 5-Sterne-Apps bis hin zu Produktentwicklung, Verwaltung von Big Data und hochmodernem Engineering und Systemsupport. Wir investieren in Technologien und entwickeln sie weiter. Bei uns arbeiten einige der kreativsten Köpfe der Welt. Wir unterstützen sie darin, Kunden zu helfen, sich neu- und weiterzuentwickeln und ihnen dabei direkt und persönlich zu helfen.\\xa0 Unsere Teams sind innovativ, vielseitig und Meister mehrerer Disziplinen. Gemeinsam treiben sie Technologie an und nehmen die Welt dabei gleich mit.Open to remote work except in South Dakota, Vermont and West Virginia.The annual base salary for this position ranges from $82,900.00 in our lowest geographic market to $185,700.00 in our highest geographic market. Actual salary will vary based on a candidate's location, qualifications, skills and experience.Information about benefits can be found here.\\xa0NIKE, Inc. does more than outfit the world's best athletes.It is a place to explore potential, obliterate boundaries and push out the edges of what can be. The company looks for people who can grow, think, dream and create through collaboration. Its culture thrives by embracing diversity and rewarding imagination. The brand seeks visionaries who emphasis results. At Nike, it is about each of us bringing our skills and passion to a challenging and constantly evolving game.NIKE Global Technology is taking technology into the future and bringing the world with it. We are responsible for making the world’s largest sport brand run faster, smarter and more securely. By advocating Innovation, our vision is to build and deliver extraordinary NIKE platforms, services and products directly to all Athletes around the world.WHO YOU’LL WORK WITHPartner directly with our Retail Coaches and Athletes, empowering them to provide the ready Product our Retail Consumers demand.Work closely with your peers and Technical Product Management to define commitments and deliver against demanding roadmaps.You will be surrounded by helpful teammates who want you to succeed and grow alongside them and you will provide them the same benefits in turn.WHO WE ARE LOOKING FORAs a Software Engineer II you will be a reliable team member on a fast-paced team. You’ll demonstrate the ability to perform as an individual contributor in any phase of the software lifecycle while proactively seeking guidance when necessary and looking to provide guidance to your teammates when appropriate.You’ll bring experience in a professional setting for the following technology languages, frameworks, concepts, and tools:SwiftGrand Central Dispatch (GCD)UIKitXCTestQuick / NimbleXcodeMVVM ArchitectureMemory Management & Retain CyclesRESTful APIsJSON parsing and data modelingCocoapodsGitNew Relic & AnalyticsAgile / Scrum MethodologyPeer Code ReviewsTechnical DocumentationSwiftUI (nice to have)Objective-C (nice to have)WHAT YOU’LL WORK ON\\xa0SIM iOS is used in over 900 Nike-Owned and Nike Partner-Owned stores globally. It enables our Retail Athletes to perform the operational tasks needed to get Nike Inventory in front of Retail Consumers including Receiving, Binning and Stockroom Management, Sales floor replenishment, Auditing retail inventory, and Inventory adjustments which sync to SAP and Supply Hub to enable Finance and support Nike’s O2O strategy.We are committed to fostering a diverse and inclusive environment for all employees and job applicants. We offer a number of accommodations to complete our interview process including screen readers, sign language interpreters, accessible and single location for in-person interviews, closed captioning, and other reasonable modifications as needed. If you discover, as you navigate our application process, that you need assistance or an accommodation due to a disability, please complete the Candidate Accommodation Request Form.NIKE, Inc. ist ein Wachstumsunternehmen, das nach Mitarbeiterinnen und Mitarbeitern sucht, die mit uns wachsen möchten. Nike bietet ein großzügiges Leistungspaket, ein ungezwungenes Arbeitsumfeld, eine vielfältige und inklusive Unternehmenskultur und eine Atmosphäre, die berufliche Weiterentwicklung begünstigt. Unabhängig von Standort und Rolle verfolgen alle Beschäftigten von Nike gemeinsam ein Ziel: Jedem Athleten* der Welt Inspiration und Innovation zu bringen.NIKE, Inc. legt bei der Auswahl seiner Mitarbeiter Wert auf Vielfalt. Wir prüfen qualifizierte Bewerber ohne Berücksichtigung von ethnischer Zugehörigkeit, Herkunft, Religion, Nationalität, Alter, sexueller Orientierung, Geschlecht, Geschlechtsidentität, Veteranenstatus und Behinderung.Unser EinstellungsverfahrenWir bei NIKE, Inc. sind darauf bedacht, ein erstklassiges, integratives, spannendes und authentisches Bewerbungsverfahren zu bieten. Das heißt: Wir wollen, dass du dich von deiner besten Seite zeigen kannst. Dazu solltest du wissen, wie unser Einstellungsverfahren funktioniert. Transparenz ist der Schlüssel.\\n\\n*In dieser Übersicht wird unser Einstellungsverfahren für unternehmensinterne Rollen erläutert. Beachte, dass für nicht unternehmensinterne Rollen möglicherweise abweichende Einstellungsschritte erforderlich sind.Jetzt anfangenLeistungenVon der Mobilität bis hin zu finanzieller Sicherheit: Wir investieren fortwährend in unsere Mitarbeiter, um ihnen dabei zu helfen, Großes zu leisten – am Arbeitsplatz und darüber hinaus. All unsere Mitarbeiter sollen in der Lage sein, ihr volles Potenzial auszuschöpfen.Mitarbeiterberatung und ‑unterstützungUrlaubKrankenversicherungBezahlter UrlaubRabatt auf ProdukteMehr erfahrenGESCHENKGUTSCHEINESTORE SUCHENNIKE JOURNALMEMBER WERDENSTUDENTENRABATTFEEDBACKAKTIONSCODESHILFEHILFEBestellstatusVersand und LieferungRückgabeZahlungsoptionenKontaktNike Aktionscodes - HilfeÜBER NIKEÜBER NIKENeuigkeitenKarriereInvestorenNachhaltigkeitNIKE APPSNIKE APPSNike AppNike Run ClubNike Training ClubSNKRSDeutschland© 2024 Nike, Inc. Alle Rechte vorbehaltenGuidesNike AdaptNike FlyEaseNike FreeNike VaporflyNBA-FanausrüstungNike AirNike FlyknitNike PegasusNike Zoom FlyFactory StoreNike Air MaxNike FlyleatherNike ReactNike ZoomXKids AirtopiaNutzungsbedingungenVerkaufsbedingungenImpressumDatenschutzrichtlinie und Cookie-ErklärungCookie-Einstellungen ändern.\""
      ]
     },
     "execution_count": 19,
     "metadata": {},
     "output_type": "execute_result"
    }
   ],
   "source": [
    "#web scrapping\n",
    "\n",
    "from langchain_community.document_loaders import WebBaseLoader\n",
    "\n",
    "loader = WebBaseLoader(\"https://jobs.nike.com/job/R-43380?from=job%20search%20funnel\")\n",
    "page_data = loader.load().pop().page_content\n",
    "page_data"
   ]
  },
  {
   "cell_type": "code",
   "execution_count": 35,
   "id": "7bd93788-bd97-4bb2-8738-f1e88af30e04",
   "metadata": {},
   "outputs": [
    {
     "data": {
      "text/plain": [
       "list"
      ]
     },
     "execution_count": 35,
     "metadata": {},
     "output_type": "execute_result"
    }
   ],
   "source": [
    "from langchain_core.prompts import PromptTemplate\n",
    "\n",
    "prompt_extract = PromptTemplate.from_template(\n",
    "    \"\"\"\n",
    "    ### SCRAPED TEXT FROM WEBSITE:\n",
    "        {page_data}\n",
    "        ### INSTRUCTION:\n",
    "        The scraped text is from the career's page of a website.\n",
    "        Your job is to extract the job postings and return them in JSON format containing the \n",
    "        following keys: `role`, `experience`, `skills` and `description`.\n",
    "        Only return the valid JSON.\n",
    "        It should only be in English\n",
    "        ### VALID JSON (NO PREAMBLE):   \n",
    "        \"\"\"\n",
    ")\n",
    "\n",
    "\n",
    "chain_extract = prompt_extract | llm\n",
    "\n",
    "res = chain_extract.invoke(input = {'page_data': page_data})\n",
    "\n",
    "type(res.content)\n",
    "\n",
    "type(eval(res.content))"
   ]
  },
  {
   "cell_type": "code",
   "execution_count": 40,
   "id": "39cbf944-029d-4332-863d-3e15c1db674c",
   "metadata": {},
   "outputs": [
    {
     "name": "stdout",
     "output_type": "stream",
     "text": [
      "{'role': 'Software Engineer II', 'experience': 'Experience in a professional setting', 'skills': ['Swift', 'Grand Central Dispatch (GCD)', 'UIKit', 'XCTest', 'Quick / Nimble', 'Xcode', 'MVVM Architecture', 'Memory Management & Retain Cycles', 'RESTful APIs', 'JSON parsing and data modeling', 'Cocoapods', 'Git', 'New Relic & Analytics', 'Agile / Scrum Methodology', 'Peer Code Reviews', 'Technical Documentation', 'SwiftUI (nice to have)', 'Objective-C (nice to have)'], 'description': 'SIM iOS is used in over 900 Nike-Owned and Nike Partner-Owned stores globally. It enables our Retail Athletes to perform the operational tasks needed to get Nike Inventory in front of Retail Consumers including Receiving, Binning and Stockroom Management, Sales floor replenishment, Auditing retail inventory, and Inventory adjustments which sync to SAP and Supply Hub to enable Finance and support Nike’s O2O strategy.'}\n"
     ]
    }
   ],
   "source": [
    "from langchain_core.output_parsers import JsonOutputParser\n",
    "\n",
    "json_parser = JsonOutputParser()\n",
    "json_res = json_parser.parse(res.content)\n",
    "print(json_res[0])"
   ]
  },
  {
   "cell_type": "code",
   "execution_count": 42,
   "id": "ebafde00-800e-4784-b2bc-1eb005529515",
   "metadata": {},
   "outputs": [
    {
     "data": {
      "text/plain": [
       "dict"
      ]
     },
     "execution_count": 42,
     "metadata": {},
     "output_type": "execute_result"
    }
   ],
   "source": [
    "type(json_res[0])"
   ]
  },
  {
   "cell_type": "code",
   "execution_count": 43,
   "id": "fac2103d-1742-4ccf-9054-e14df2e324ee",
   "metadata": {},
   "outputs": [
    {
     "data": {
      "text/html": [
       "<div>\n",
       "<style scoped>\n",
       "    .dataframe tbody tr th:only-of-type {\n",
       "        vertical-align: middle;\n",
       "    }\n",
       "\n",
       "    .dataframe tbody tr th {\n",
       "        vertical-align: top;\n",
       "    }\n",
       "\n",
       "    .dataframe thead th {\n",
       "        text-align: right;\n",
       "    }\n",
       "</style>\n",
       "<table border=\"1\" class=\"dataframe\">\n",
       "  <thead>\n",
       "    <tr style=\"text-align: right;\">\n",
       "      <th></th>\n",
       "      <th>Techstack</th>\n",
       "      <th>Links</th>\n",
       "    </tr>\n",
       "  </thead>\n",
       "  <tbody>\n",
       "    <tr>\n",
       "      <th>0</th>\n",
       "      <td>React, Node.js, MongoDB</td>\n",
       "      <td>https://example.com/react-portfolio</td>\n",
       "    </tr>\n",
       "    <tr>\n",
       "      <th>1</th>\n",
       "      <td>Angular,.NET, SQL Server</td>\n",
       "      <td>https://example.com/angular-portfolio</td>\n",
       "    </tr>\n",
       "    <tr>\n",
       "      <th>2</th>\n",
       "      <td>Vue.js, Ruby on Rails, PostgreSQL</td>\n",
       "      <td>https://example.com/vue-portfolio</td>\n",
       "    </tr>\n",
       "    <tr>\n",
       "      <th>3</th>\n",
       "      <td>Python, Django, MySQL</td>\n",
       "      <td>https://example.com/python-portfolio</td>\n",
       "    </tr>\n",
       "    <tr>\n",
       "      <th>4</th>\n",
       "      <td>Java, Spring Boot, Oracle</td>\n",
       "      <td>https://example.com/java-portfolio</td>\n",
       "    </tr>\n",
       "    <tr>\n",
       "      <th>5</th>\n",
       "      <td>Flutter, Firebase, GraphQL</td>\n",
       "      <td>https://example.com/flutter-portfolio</td>\n",
       "    </tr>\n",
       "    <tr>\n",
       "      <th>6</th>\n",
       "      <td>WordPress, PHP, MySQL</td>\n",
       "      <td>https://example.com/wordpress-portfolio</td>\n",
       "    </tr>\n",
       "    <tr>\n",
       "      <th>7</th>\n",
       "      <td>Magento, PHP, MySQL</td>\n",
       "      <td>https://example.com/magento-portfolio</td>\n",
       "    </tr>\n",
       "    <tr>\n",
       "      <th>8</th>\n",
       "      <td>React Native, Node.js, MongoDB</td>\n",
       "      <td>https://example.com/react-native-portfolio</td>\n",
       "    </tr>\n",
       "    <tr>\n",
       "      <th>9</th>\n",
       "      <td>iOS, Swift, Core Data</td>\n",
       "      <td>https://example.com/ios-portfolio</td>\n",
       "    </tr>\n",
       "    <tr>\n",
       "      <th>10</th>\n",
       "      <td>Android, Java, Room Persistence</td>\n",
       "      <td>https://example.com/android-portfolio</td>\n",
       "    </tr>\n",
       "    <tr>\n",
       "      <th>11</th>\n",
       "      <td>Kotlin, Android, Firebase</td>\n",
       "      <td>https://example.com/kotlin-android-portfolio</td>\n",
       "    </tr>\n",
       "    <tr>\n",
       "      <th>12</th>\n",
       "      <td>Android TV, Kotlin, Android NDK</td>\n",
       "      <td>https://example.com/android-tv-portfolio</td>\n",
       "    </tr>\n",
       "    <tr>\n",
       "      <th>13</th>\n",
       "      <td>iOS, Swift, ARKit</td>\n",
       "      <td>https://example.com/ios-ar-portfolio</td>\n",
       "    </tr>\n",
       "    <tr>\n",
       "      <th>14</th>\n",
       "      <td>Cross-platform, Xamarin, Azure</td>\n",
       "      <td>https://example.com/xamarin-portfolio</td>\n",
       "    </tr>\n",
       "    <tr>\n",
       "      <th>15</th>\n",
       "      <td>Backend, Kotlin, Spring Boot</td>\n",
       "      <td>https://example.com/kotlin-backend-portfolio</td>\n",
       "    </tr>\n",
       "    <tr>\n",
       "      <th>16</th>\n",
       "      <td>Frontend, TypeScript, Angular</td>\n",
       "      <td>https://example.com/typescript-frontend-portfolio</td>\n",
       "    </tr>\n",
       "    <tr>\n",
       "      <th>17</th>\n",
       "      <td>Full-stack, JavaScript, Express.js</td>\n",
       "      <td>https://example.com/full-stack-js-portfolio</td>\n",
       "    </tr>\n",
       "    <tr>\n",
       "      <th>18</th>\n",
       "      <td>Machine Learning, Python, TensorFlow</td>\n",
       "      <td>https://example.com/ml-python-portfolio</td>\n",
       "    </tr>\n",
       "    <tr>\n",
       "      <th>19</th>\n",
       "      <td>DevOps, Jenkins, Docker</td>\n",
       "      <td>https://example.com/devops-portfolio</td>\n",
       "    </tr>\n",
       "  </tbody>\n",
       "</table>\n",
       "</div>"
      ],
      "text/plain": [
       "                               Techstack  \\\n",
       "0                React, Node.js, MongoDB   \n",
       "1               Angular,.NET, SQL Server   \n",
       "2      Vue.js, Ruby on Rails, PostgreSQL   \n",
       "3                  Python, Django, MySQL   \n",
       "4              Java, Spring Boot, Oracle   \n",
       "5             Flutter, Firebase, GraphQL   \n",
       "6                  WordPress, PHP, MySQL   \n",
       "7                    Magento, PHP, MySQL   \n",
       "8         React Native, Node.js, MongoDB   \n",
       "9                  iOS, Swift, Core Data   \n",
       "10       Android, Java, Room Persistence   \n",
       "11             Kotlin, Android, Firebase   \n",
       "12       Android TV, Kotlin, Android NDK   \n",
       "13                     iOS, Swift, ARKit   \n",
       "14        Cross-platform, Xamarin, Azure   \n",
       "15          Backend, Kotlin, Spring Boot   \n",
       "16         Frontend, TypeScript, Angular   \n",
       "17    Full-stack, JavaScript, Express.js   \n",
       "18  Machine Learning, Python, TensorFlow   \n",
       "19               DevOps, Jenkins, Docker   \n",
       "\n",
       "                                                Links  \n",
       "0                 https://example.com/react-portfolio  \n",
       "1               https://example.com/angular-portfolio  \n",
       "2                   https://example.com/vue-portfolio  \n",
       "3                https://example.com/python-portfolio  \n",
       "4                  https://example.com/java-portfolio  \n",
       "5               https://example.com/flutter-portfolio  \n",
       "6             https://example.com/wordpress-portfolio  \n",
       "7               https://example.com/magento-portfolio  \n",
       "8          https://example.com/react-native-portfolio  \n",
       "9                   https://example.com/ios-portfolio  \n",
       "10              https://example.com/android-portfolio  \n",
       "11       https://example.com/kotlin-android-portfolio  \n",
       "12           https://example.com/android-tv-portfolio  \n",
       "13               https://example.com/ios-ar-portfolio  \n",
       "14              https://example.com/xamarin-portfolio  \n",
       "15       https://example.com/kotlin-backend-portfolio  \n",
       "16  https://example.com/typescript-frontend-portfolio  \n",
       "17        https://example.com/full-stack-js-portfolio  \n",
       "18            https://example.com/ml-python-portfolio  \n",
       "19               https://example.com/devops-portfolio  "
      ]
     },
     "execution_count": 43,
     "metadata": {},
     "output_type": "execute_result"
    }
   ],
   "source": [
    "import pandas as pd\n",
    "\n",
    "df = pd.read_csv(\"my_portfolio.csv\")\n",
    "df"
   ]
  },
  {
   "cell_type": "code",
   "execution_count": 44,
   "id": "da825bc0-81ef-495b-bf99-c215b75e4d4d",
   "metadata": {},
   "outputs": [],
   "source": [
    "import chromadb\n",
    "import uuid\n",
    "\n",
    "client = chromadb.PersistentClient('vectorstore') #stores data on disk\n",
    "collection = client.get_or_create_collection(name = \"portfolio\")\n",
    "\n",
    "if not collection.count():\n",
    "    for _, row in df.iterrows():\n",
    "        collection.add(documents = row[\"Techstack\"],\n",
    "                      metadatas = {\"links\": row[\"Links\"]},\n",
    "                      ids = [str(uuid.uuid4())])"
   ]
  },
  {
   "cell_type": "code",
   "execution_count": 48,
   "id": "7bea5bf0-3ddb-4010-9c08-6ced368c0e8c",
   "metadata": {},
   "outputs": [
    {
     "data": {
      "text/plain": [
       "[[{'links': 'https://example.com/ios-ar-portfolio'},\n",
       "  {'links': 'https://example.com/ios-portfolio'}],\n",
       " [{'links': 'https://example.com/ios-portfolio'},\n",
       "  {'links': 'https://example.com/ios-ar-portfolio'}],\n",
       " [{'links': 'https://example.com/ios-ar-portfolio'},\n",
       "  {'links': 'https://example.com/ios-portfolio'}],\n",
       " [{'links': 'https://example.com/ios-ar-portfolio'},\n",
       "  {'links': 'https://example.com/ios-portfolio'}],\n",
       " [{'links': 'https://example.com/ios-ar-portfolio'},\n",
       "  {'links': 'https://example.com/ml-python-portfolio'}],\n",
       " [{'links': 'https://example.com/ios-ar-portfolio'},\n",
       "  {'links': 'https://example.com/ios-portfolio'}],\n",
       " [{'links': 'https://example.com/android-portfolio'},\n",
       "  {'links': 'https://example.com/java-portfolio'}],\n",
       " [{'links': 'https://example.com/android-portfolio'},\n",
       "  {'links': 'https://example.com/ios-portfolio'}],\n",
       " [{'links': 'https://example.com/wordpress-portfolio'},\n",
       "  {'links': 'https://example.com/magento-portfolio'}],\n",
       " [{'links': 'https://example.com/ios-portfolio'},\n",
       "  {'links': 'https://example.com/ml-python-portfolio'}],\n",
       " [{'links': 'https://example.com/ios-ar-portfolio'},\n",
       "  {'links': 'https://example.com/ios-portfolio'}],\n",
       " [{'links': 'https://example.com/devops-portfolio'},\n",
       "  {'links': 'https://example.com/kotlin-android-portfolio'}],\n",
       " [{'links': 'https://example.com/flutter-portfolio'},\n",
       "  {'links': 'https://example.com/react-portfolio'}],\n",
       " [{'links': 'https://example.com/kotlin-backend-portfolio'},\n",
       "  {'links': 'https://example.com/java-portfolio'}],\n",
       " [{'links': 'https://example.com/wordpress-portfolio'},\n",
       "  {'links': 'https://example.com/full-stack-js-portfolio'}],\n",
       " [{'links': 'https://example.com/typescript-frontend-portfolio'},\n",
       "  {'links': 'https://example.com/magento-portfolio'}],\n",
       " [{'links': 'https://example.com/ios-ar-portfolio'},\n",
       "  {'links': 'https://example.com/ios-portfolio'}],\n",
       " [{'links': 'https://example.com/ios-portfolio'},\n",
       "  {'links': 'https://example.com/ios-ar-portfolio'}]]"
      ]
     },
     "execution_count": 48,
     "metadata": {},
     "output_type": "execute_result"
    }
   ],
   "source": [
    "res = collection.query(query_texts = job[\"skills\"], n_results = 2).get('metadatas')\n",
    "res\n"
   ]
  },
  {
   "cell_type": "code",
   "execution_count": 47,
   "id": "3a7bd444-af57-4b87-95ef-18ee8957eea8",
   "metadata": {},
   "outputs": [
    {
     "data": {
      "text/plain": [
       "['Swift',\n",
       " 'Grand Central Dispatch (GCD)',\n",
       " 'UIKit',\n",
       " 'XCTest',\n",
       " 'Quick / Nimble',\n",
       " 'Xcode',\n",
       " 'MVVM Architecture',\n",
       " 'Memory Management & Retain Cycles',\n",
       " 'RESTful APIs',\n",
       " 'JSON parsing and data modeling',\n",
       " 'Cocoapods',\n",
       " 'Git',\n",
       " 'New Relic & Analytics',\n",
       " 'Agile / Scrum Methodology',\n",
       " 'Peer Code Reviews',\n",
       " 'Technical Documentation',\n",
       " 'SwiftUI (nice to have)',\n",
       " 'Objective-C (nice to have)']"
      ]
     },
     "execution_count": 47,
     "metadata": {},
     "output_type": "execute_result"
    }
   ],
   "source": [
    "job = json_res[0]\n",
    "job[\"skills\"]"
   ]
  },
  {
   "cell_type": "code",
   "execution_count": 49,
   "id": "558e66c5-6ce8-40dc-90e7-5b218597c668",
   "metadata": {},
   "outputs": [],
   "source": [
    "prompt_email = PromptTemplate.from_template(\n",
    "    \"\"\"\n",
    "     ### JOB DESCRIPTION:\n",
    "        {job_description}\n",
    "        \n",
    "        ### INSTRUCTION:\n",
    "        You are Zeb, a business development executive at ATC group. ATC is an AI & Software Consulting company dedicated to facilitating\n",
    "        the seamless integration of business processes through automated tools. \n",
    "        Over our experience, we have empowered numerous enterprises with tailored solutions, fostering scalability, \n",
    "        process optimization, cost reduction, and heightened overall efficiency. \n",
    "        Your job is to write a cold email to the client regarding the job mentioned above describing the capability of ATC \n",
    "        in fulfilling their needs.\n",
    "        Also add the most relevant ones from the following links to showcase ATC's portfolio: {link_list}\n",
    "        Remember you are Zeb, BDE at ATC. \n",
    "        Do not provide a preamble.\n",
    "        ### EMAIL (NO PREAMBLE):\n",
    "        \n",
    "    \"\"\"\n",
    ")"
   ]
  },
  {
   "cell_type": "code",
   "execution_count": 52,
   "id": "ee41048a-972a-4493-ac05-3e6a53d0aa32",
   "metadata": {},
   "outputs": [
    {
     "data": {
      "text/plain": [
       "\"Subject: Expert Software Engineering Solutions for SIM iOS at Nike\\n\\nDear Hiring Manager,\\n\\nI hope this email finds you well. I came across the Software Engineer II position for SIM iOS at Nike and believe that ATC Group can provide the expertise and innovative solutions to fulfill your needs.\\n\\nATC Group has extensive experience in developing and integrating custom software solutions for various industries, including retail. Our proficiency in Swift, Grand Central Dispatch (GCD), UIKit, XCTest, Quick / Nimble, Xcode, MVVM Architecture, Memory Management & Retain Cycles, RESTful APIs, JSON parsing and data modeling, Cocoapods, Git, New Relic & Analytics, Agile / Scrum Methodology, Peer Code Reviews, and Technical Documentation align perfectly with the required skills for this role.\\n\\nTo showcase our capabilities, I would like to highlight some relevant projects in our portfolio:\\n\\n1. [Project 1 - Retail Inventory Management System](links): Our team developed a comprehensive retail inventory management system for a major client, incorporating features such as receiving, binning, stockroom management, sales floor replenishment, auditing, and inventory adjustments. The system was built using Swift, UIKit, and RESTful APIs, ensuring seamless integration with existing tools and databases.\\n2. [Project 2 - Mobile Point of Sale (mPOS) Solution](links): ATC Group created an mPOS solution for a retail chain, utilizing SwiftUI, Objective-C, and Git for efficient development and version control. The solution included features such as sales processing, inventory tracking, and reporting, all of which were designed to optimize retail operations.\\n\\nOur expertise in these areas, coupled with our commitment to understanding your unique business challenges, positions ATC Group as an ideal partner for Nike. We are confident that our software engineering solutions will help enhance SIM iOS, contributing to Nike's O2O strategy and overall success.\\n\\nPlease let me know if you would like to discuss further how ATC Group can support your team. I look forward to the opportunity to collaborate with Nike and demonstrate the value we can bring to your organization.\\n\\nBest regards,\\n\\nZeb\\nBusiness Development Executive\\nATC Group\""
      ]
     },
     "execution_count": 52,
     "metadata": {},
     "output_type": "execute_result"
    }
   ],
   "source": [
    "chain_email = prompt_email | llm\n",
    "res = chain_email.invoke({\"job_description\": str(job), \"link_list\": \"links\"})\n",
    "res.content"
   ]
  },
  {
   "cell_type": "code",
   "execution_count": null,
   "id": "b2beccca-166a-422c-a46c-aa537835770a",
   "metadata": {},
   "outputs": [],
   "source": []
  }
 ],
 "metadata": {
  "kernelspec": {
   "display_name": "Python 3 (ipykernel)",
   "language": "python",
   "name": "python3"
  },
  "language_info": {
   "codemirror_mode": {
    "name": "ipython",
    "version": 3
   },
   "file_extension": ".py",
   "mimetype": "text/x-python",
   "name": "python",
   "nbconvert_exporter": "python",
   "pygments_lexer": "ipython3",
   "version": "3.11.9"
  }
 },
 "nbformat": 4,
 "nbformat_minor": 5
}
